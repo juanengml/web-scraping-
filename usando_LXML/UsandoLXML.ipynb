{
 "cells": [
  {
   "cell_type": "markdown",
   "metadata": {},
   "source": [
    "# Usando LXML"
   ]
  },
  {
   "cell_type": "code",
   "execution_count": 3,
   "metadata": {},
   "outputs": [
    {
     "name": "stdout",
     "output_type": "stream",
     "text": [
      "from lxml import etree\n",
      "\n",
      "# Criando um elemento denominado Teste\n",
      "elemento = etree.Element(\"Teste\")\n",
      "\n",
      "# Adicionado um texto ao elemento Teste\n",
      "elemento.text = \"Este é o texto da tag Teste\"\n",
      "\n",
      "# Imprimindo o objeto criado usando etree.tostring()\n",
      "print(etree.tostring(elemento))\n",
      "\n",
      "# imprimindo a tag do objeto xml criado\n",
      "print(elemento.tag)\n",
      "\n",
      "# Imprimindo o texto da tag\n",
      "print(elemento.text)"
     ]
    }
   ],
   "source": [
    "!cat element.py"
   ]
  },
  {
   "cell_type": "code",
   "execution_count": null,
   "metadata": {},
   "outputs": [],
   "source": []
  },
  {
   "cell_type": "code",
   "execution_count": 10,
   "metadata": {},
   "outputs": [
    {
     "name": "stdout",
     "output_type": "stream",
     "text": [
      "Collecting lxml\n",
      "\u001b[33m  Cache entry deserialization failed, entry ignored\u001b[0m\n",
      "  Downloading https://files.pythonhosted.org/packages/68/30/affd16b77edf9537f5be051905f33527021e20d563d013e8c42c7fd01949/lxml-4.4.2-cp36-cp36m-manylinux1_x86_64.whl (5.8MB)\n",
      "\u001b[K    100% |████████████████████████████████| 5.8MB 235kB/s eta 0:00:01    20% |██████▋                         | 1.2MB 42.4MB/s eta 0:00:01\n",
      "\u001b[?25hInstalling collected packages: lxml\n",
      "Successfully installed lxml-4.4.2\n"
     ]
    }
   ],
   "source": [
    "!pip3 install lxml"
   ]
  },
  {
   "cell_type": "code",
   "execution_count": 11,
   "metadata": {},
   "outputs": [],
   "source": [
    "from lxml import etree"
   ]
  },
  {
   "cell_type": "code",
   "execution_count": 13,
   "metadata": {},
   "outputs": [],
   "source": [
    "elemento = etree.Element(\"Teste\")"
   ]
  },
  {
   "cell_type": "code",
   "execution_count": 14,
   "metadata": {},
   "outputs": [],
   "source": [
    "elemento.text = \"Este é o texto da tag Teste\""
   ]
  },
  {
   "cell_type": "code",
   "execution_count": 15,
   "metadata": {},
   "outputs": [
    {
     "name": "stdout",
     "output_type": "stream",
     "text": [
      "b'<Teste>Este &#233; o texto da tag Teste</Teste>'\n"
     ]
    }
   ],
   "source": [
    "print(etree.tostring(elemento))"
   ]
  },
  {
   "cell_type": "code",
   "execution_count": 16,
   "metadata": {},
   "outputs": [
    {
     "name": "stdout",
     "output_type": "stream",
     "text": [
      "Teste\n"
     ]
    }
   ],
   "source": [
    "print(elemento.tag)"
   ]
  },
  {
   "cell_type": "code",
   "execution_count": 17,
   "metadata": {},
   "outputs": [
    {
     "name": "stdout",
     "output_type": "stream",
     "text": [
      "Este é o texto da tag Teste\n"
     ]
    }
   ],
   "source": [
    "print(elemento.text)"
   ]
  },
  {
   "cell_type": "code",
   "execution_count": null,
   "metadata": {},
   "outputs": [],
   "source": []
  },
  {
   "cell_type": "code",
   "execution_count": 4,
   "metadata": {},
   "outputs": [
    {
     "name": "stdout",
     "output_type": "stream",
     "text": [
      "from lxml import etree\n",
      "\n",
      "# Criando o elemento Clientes\n",
      "clientes = etree.Element(\"clientes\")\n",
      "\n",
      "# Criando (diretamente) um subelemento do elemento clientes denominado cliente1 (tag cliente)\n",
      "cliente1 = etree.SubElement(clientes, \"cliente\")\n",
      "# Criando um subelemento do elemento cliente1 denominado nome1 (tag nome)\n",
      "nome1 = etree.SubElement(cliente1, \"nome\")\n",
      "# Definindo um texto para nome1\n",
      "nome1.text = \"Fulano de Marte\"\n",
      "idade1 = etree.SubElement(cliente1, \"idade\")\n",
      "idade1.text = \"32\"\n",
      "sexo1 = etree.SubElement(cliente1, \"sexo\")\n",
      "sexo1.text = \"Masculino\"\n",
      "cpf1 = etree.SubElement(cliente1, \"cpf\")\n",
      "cpf1.text = \"012.345.678-90\"\n",
      "\n",
      "\n",
      "cliente2 = etree.Element(\"cliente\")\n",
      "nome2 = etree.SubElement(cliente2, \"nome\")\n",
      "nome2.text = \"Sicrano da Terra\"\n",
      "# Adicionando com append o elemento cliente2 no elemento clientes (vai ser um subelemento)\n",
      "idade2 = etree.SubElement(cliente2, \"idade\")\n",
      "idade2.text = \"25\"\n",
      "sexo2 = etree.SubElement(cliente2, \"sexo\")\n",
      "sexo2.text = \"Masculino\"\n",
      "cpf2 = etree.SubElement(cliente2, \"cpf\")\n",
      "cpf2.text = \"987.345.678-90\"\n",
      "clientes.append(cliente2)\n",
      "\n",
      "cliente3 = etree.Element(\"cliente\")\n",
      "nome3 = etree.SubElement(cliente3, \"nome\")\n",
      "nome3.text = \"Beltrana de Betelgeuse\"\n",
      "# Adicionando com append o elemento cliente2 no elemento clientes (vai ser um subelemento)\n",
      "idade3 = etree.SubElement(cliente3, \"idade\")\n",
      "idade3.text = \"22\"\n",
      "sexo3 = etree.SubElement(cliente3, \"sexo\")\n",
      "sexo3.text = \"Feminino\"\n",
      "cpf3 = etree.SubElement(cliente3, \"cpf\")\n",
      "cpf3.text = \"111.345.678-90\"\n",
      "clientes.append(cliente3)\n",
      "\n",
      "print(etree.tostring(clientes))\n",
      "print(etree.tostring(clientes, pretty_print=True))\n",
      "print(etree.tostring(clientes, pretty_print=True).decode(\"utf-8\"))\n",
      "\n",
      "\n",
      "\n",
      "\"\"\"\n",
      "<clientes>\n",
      "  <cliente>\n",
      "      <nome>Fulano de Marte</nome>\n",
      "      <idade>32</idade>\n",
      "      <sexo>Masculino</sexo>\n",
      "      <cpf>012.345.678-90</cpf>\n",
      "  </cliente>\n",
      "  <cliente>\n",
      "      <nome>Sicrano da Terra</nome>\n",
      "      <idade>25</idade>\n",
      "      <sexo>Masculino</sexo>\n",
      "      <cpf>987.345.678-90</cpf>\n",
      "  </cliente>\n",
      "  <cliente>\n",
      "      <nome>Beltrana de Betelgeuse</nome>\n",
      "      <idade>22</idade>\n",
      "      <sexo>Feminino</sexo>\n",
      "      <cpf>111.345.678-90</cpf>\n",
      "  </cliente>\n",
      "</clientes>\n",
      "\n",
      "\"\"\""
     ]
    }
   ],
   "source": [
    "!cat subelement.py"
   ]
  },
  {
   "cell_type": "code",
   "execution_count": 18,
   "metadata": {},
   "outputs": [],
   "source": [
    "from lxml import etree\n",
    "\n",
    "# Criando o elemento Clientes\n",
    "clientes = etree.Element(\"clientes\")\n",
    "\n",
    "# Criando (diretamente) um subelemento do elemento clientes denominado cliente1 (tag cliente)\n",
    "cliente1 = etree.SubElement(clientes, \"cliente\")\n",
    "# Criando um subelemento do elemento cliente1 denominado nome1 (tag nome)\n",
    "nome1 = etree.SubElement(cliente1, \"nome\")\n",
    "# Definindo um texto para nome1\n",
    "nome1.text = \"Fulano de Marte\"\n",
    "idade1 = etree.SubElement(cliente1, \"idade\")\n",
    "idade1.text = \"32\"\n",
    "sexo1 = etree.SubElement(cliente1, \"sexo\")\n",
    "sexo1.text = \"Masculino\"\n",
    "cpf1 = etree.SubElement(cliente1, \"cpf\")\n",
    "cpf1.text = \"012.345.678-90\"\n",
    "\n"
   ]
  },
  {
   "cell_type": "code",
   "execution_count": 19,
   "metadata": {},
   "outputs": [],
   "source": [
    "cliente2 = etree.Element(\"cliente\")\n",
    "nome2 = etree.SubElement(cliente2, \"nome\")\n",
    "nome2.text = \"Sicrano da Terra\"\n",
    "# Adicionando com append o elemento cliente2 no elemento clientes (vai ser um subelemento)\n",
    "idade2 = etree.SubElement(cliente2, \"idade\")\n",
    "idade2.text = \"25\"\n",
    "sexo2 = etree.SubElement(cliente2, \"sexo\")\n",
    "sexo2.text = \"Masculino\"\n",
    "cpf2 = etree.SubElement(cliente2, \"cpf\")\n",
    "cpf2.text = \"987.345.678-90\"\n",
    "clientes.append(cliente2)"
   ]
  },
  {
   "cell_type": "code",
   "execution_count": 20,
   "metadata": {},
   "outputs": [],
   "source": [
    "cliente3 = etree.Element(\"cliente\")\n",
    "nome3 = etree.SubElement(cliente3, \"nome\")\n",
    "nome3.text = \"Beltrana de Betelgeuse\"\n",
    "# Adicionando com append o elemento cliente2 no elemento clientes (vai ser um subelemento)\n",
    "idade3 = etree.SubElement(cliente3, \"idade\")\n",
    "idade3.text = \"22\"\n",
    "sexo3 = etree.SubElement(cliente3, \"sexo\")\n",
    "sexo3.text = \"Feminino\"\n",
    "cpf3 = etree.SubElement(cliente3, \"cpf\")\n",
    "cpf3.text = \"111.345.678-90\"\n",
    "clientes.append(cliente3)"
   ]
  },
  {
   "cell_type": "code",
   "execution_count": 22,
   "metadata": {},
   "outputs": [
    {
     "name": "stdout",
     "output_type": "stream",
     "text": [
      "b'<clientes><cliente><nome>Fulano de Marte</nome><idade>32</idade><sexo>Masculino</sexo><cpf>012.345.678-90</cpf></cliente><cliente><nome>Sicrano da Terra</nome><idade>25</idade><sexo>Masculino</sexo><cpf>987.345.678-90</cpf></cliente><cliente><nome>Beltrana de Betelgeuse</nome><idade>22</idade><sexo>Feminino</sexo><cpf>111.345.678-90</cpf></cliente></clientes>'\n"
     ]
    }
   ],
   "source": [
    "print(etree.tostring(clientes))"
   ]
  },
  {
   "cell_type": "code",
   "execution_count": 23,
   "metadata": {},
   "outputs": [
    {
     "name": "stdout",
     "output_type": "stream",
     "text": [
      "b'<clientes>\\n  <cliente>\\n    <nome>Fulano de Marte</nome>\\n    <idade>32</idade>\\n    <sexo>Masculino</sexo>\\n    <cpf>012.345.678-90</cpf>\\n  </cliente>\\n  <cliente>\\n    <nome>Sicrano da Terra</nome>\\n    <idade>25</idade>\\n    <sexo>Masculino</sexo>\\n    <cpf>987.345.678-90</cpf>\\n  </cliente>\\n  <cliente>\\n    <nome>Beltrana de Betelgeuse</nome>\\n    <idade>22</idade>\\n    <sexo>Feminino</sexo>\\n    <cpf>111.345.678-90</cpf>\\n  </cliente>\\n</clientes>\\n'\n"
     ]
    }
   ],
   "source": [
    "print(etree.tostring(clientes, pretty_print=True))"
   ]
  },
  {
   "cell_type": "code",
   "execution_count": 24,
   "metadata": {},
   "outputs": [
    {
     "name": "stdout",
     "output_type": "stream",
     "text": [
      "<clientes>\n",
      "  <cliente>\n",
      "    <nome>Fulano de Marte</nome>\n",
      "    <idade>32</idade>\n",
      "    <sexo>Masculino</sexo>\n",
      "    <cpf>012.345.678-90</cpf>\n",
      "  </cliente>\n",
      "  <cliente>\n",
      "    <nome>Sicrano da Terra</nome>\n",
      "    <idade>25</idade>\n",
      "    <sexo>Masculino</sexo>\n",
      "    <cpf>987.345.678-90</cpf>\n",
      "  </cliente>\n",
      "  <cliente>\n",
      "    <nome>Beltrana de Betelgeuse</nome>\n",
      "    <idade>22</idade>\n",
      "    <sexo>Feminino</sexo>\n",
      "    <cpf>111.345.678-90</cpf>\n",
      "  </cliente>\n",
      "</clientes>\n",
      "\n"
     ]
    }
   ],
   "source": [
    "print(etree.tostring(clientes, pretty_print=True).decode(\"utf-8\"))\n"
   ]
  },
  {
   "cell_type": "markdown",
   "metadata": {},
   "source": [
    "---"
   ]
  },
  {
   "cell_type": "code",
   "execution_count": 1,
   "metadata": {},
   "outputs": [],
   "source": [
    "from lxml import etree"
   ]
  },
  {
   "cell_type": "code",
   "execution_count": 7,
   "metadata": {},
   "outputs": [],
   "source": [
    "funcionarios = etree.parse(\"funcionario.xml\")"
   ]
  },
  {
   "cell_type": "code",
   "execution_count": 8,
   "metadata": {},
   "outputs": [
    {
     "name": "stdout",
     "output_type": "stream",
     "text": [
      "<Element funcionario at 0x7fe670234948>\n"
     ]
    }
   ],
   "source": [
    "print(funcionarios.find(\"funcionario\"))"
   ]
  },
  {
   "cell_type": "code",
   "execution_count": 9,
   "metadata": {},
   "outputs": [
    {
     "name": "stdout",
     "output_type": "stream",
     "text": [
      "<Element funcionario at 0x7fe6702348c8>\n"
     ]
    }
   ],
   "source": [
    "print(funcionarios.getroot().find(\"funcionario\"))"
   ]
  },
  {
   "cell_type": "code",
   "execution_count": 10,
   "metadata": {},
   "outputs": [
    {
     "name": "stdout",
     "output_type": "stream",
     "text": [
      "[<Element funcionario at 0x7fe670234b48>, <Element funcionario at 0x7fe670234b08>]\n"
     ]
    }
   ],
   "source": [
    "print(funcionarios.findall(\"funcionario\"))"
   ]
  },
  {
   "cell_type": "code",
   "execution_count": 11,
   "metadata": {},
   "outputs": [
    {
     "name": "stdout",
     "output_type": "stream",
     "text": [
      "<funcionarios>\n",
      "  <funcionario departamento=\"TI\">\n",
      "    <nome>Juan Manoel</nome>\n",
      "    <celular>(41) 992149181</celular>\n",
      "    <email>juanengml@gmail.com</email>\n",
      "   </funcionario>\n",
      "  <funcionario departamento=\"TI\">\n",
      "    <nome>Juan Manoel 3 </nome>\n",
      "    <celular>(41) 992149182</celular>\n",
      "    <email>juanenasdgml@gmail.com</email>\n",
      "   </funcionario>    \n",
      "</funcionarios>\n",
      "\n"
     ]
    }
   ],
   "source": [
    "print(etree.tostring(funcionarios.getroot(),pretty_print=True).decode(\"utf-8\"))"
   ]
  },
  {
   "cell_type": "code",
   "execution_count": 12,
   "metadata": {},
   "outputs": [],
   "source": [
    "todos_funcionarios = funcionarios.findall(\"funcionario\")"
   ]
  },
  {
   "cell_type": "code",
   "execution_count": 14,
   "metadata": {},
   "outputs": [
    {
     "name": "stdout",
     "output_type": "stream",
     "text": [
      "####################\n",
      "TAG:  funcionario\n",
      "TEXT:  \n",
      "Tail:  \n",
      "Atrib:  {'departamento': 'TI'}\n",
      "********************\n",
      "TAG:  nome\n",
      "TEXT:  Juan Manoel\n",
      "Tail:  \n",
      "Atrib:  {}\n",
      "********************\n",
      "********************\n",
      "TAG:  celular\n",
      "TEXT:  (41) 992149181\n",
      "Tail:  \n",
      "Atrib:  {}\n",
      "********************\n",
      "********************\n",
      "TAG:  email\n",
      "TEXT:  juanengml@gmail.com\n",
      "Tail:  \n",
      "Atrib:  {}\n",
      "********************\n",
      "####################\n",
      "TAG:  funcionario\n",
      "TEXT:  \n",
      "Tail:  \n",
      "Atrib:  {'departamento': 'TI'}\n",
      "********************\n",
      "TAG:  nome\n",
      "TEXT:  Juan Manoel 3\n",
      "Tail:  \n",
      "Atrib:  {}\n",
      "********************\n",
      "********************\n",
      "TAG:  celular\n",
      "TEXT:  (41) 992149182\n",
      "Tail:  \n",
      "Atrib:  {}\n",
      "********************\n",
      "********************\n",
      "TAG:  email\n",
      "TEXT:  juanenasdgml@gmail.com\n",
      "Tail:  \n",
      "Atrib:  {}\n",
      "********************\n"
     ]
    }
   ],
   "source": [
    "for funcionario in todos_funcionarios:\n",
    "    print(\"#\"*20)\n",
    "    print(\"TAG: \",funcionario.tag.strip())\n",
    "    print(\"TEXT: \",funcionario.text.strip())\n",
    "    print(\"Tail: \",funcionario.tail.strip())\n",
    "    print(\"Atrib: \",funcionario.attrib)\n",
    "    for informacoes in funcionario:\n",
    "        print(\"*\"*20)\n",
    "        print(\"TAG: \",informacoes.tag.strip())\n",
    "        print(\"TEXT: \",informacoes.text.strip())\n",
    "        print(\"Tail: \",informacoes.tail.strip())\n",
    "        print(\"Atrib: \",informacoes.attrib)\n",
    "        print(\"*\"*20)"
   ]
  },
  {
   "cell_type": "code",
   "execution_count": null,
   "metadata": {},
   "outputs": [],
   "source": []
  }
 ],
 "metadata": {
  "kernelspec": {
   "display_name": "Python 3",
   "language": "python",
   "name": "python3"
  },
  "language_info": {
   "codemirror_mode": {
    "name": "ipython",
    "version": 3
   },
   "file_extension": ".py",
   "mimetype": "text/x-python",
   "name": "python",
   "nbconvert_exporter": "python",
   "pygments_lexer": "ipython3",
   "version": "3.6.9"
  }
 },
 "nbformat": 4,
 "nbformat_minor": 4
}
